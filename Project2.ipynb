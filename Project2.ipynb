{
 "cells": [
  {
   "cell_type": "markdown",
   "id": "d51f8fce",
   "metadata": {
    "id": "d51f8fce"
   },
   "source": [
    "<center><h1>Project 2: Maximizing Profit</h1></center>\n",
    "\n",
    "Author: Muhammad Haris Iqbal \n",
    "\n",
    "11/19/2021\n",
    "\n",
    "## Introduction\n",
    "In this project, we are given a situation where we are opening a new coffee bar and need to decide how to price each\n",
    "shot of espresso. To do this we will first poll customers asking for the maximum price they would pay for one shot, then based on that information we will compute sales and finally we will compute profits."
   ]
  },
  {
   "cell_type": "markdown",
   "id": "f38f4339",
   "metadata": {
    "id": "f38f4339"
   },
   "source": [
    "## Part 1: Poll Customers\n",
    "\n",
    "In the first part, we determine the most profitable price for our espresso. To do that, we poll 1,000 daily potential daily customers asking for the maximum price they would be willing to pay for a shot of espresso at our coffee bar. To simulate these potential customers, we write a function `randCustomers(n)` that returns a list of **n** normally distributed prices with mean \\\\$4.00 and standard deviation $1.50. This function then generates a list of maximum prices for our 1,000 potential customers.\n",
    "\n",
    "Firstly, we initialize `customersList` variable which displays a histogram of the returned maximum prices. Then, we use a for-loop which has a range of 1,000. To return normally ditributed prices we initialize `r` with a **random.gauss()** function which returns random numbers drawn from a Gaussian ditribution. After that, we use a **round(r, 2)** function which rounds the returned prices to 2 decimal place. Finally, we append the `customersList` by adding `r` into it and return the `customersList`."
   ]
  },
  {
   "cell_type": "code",
   "execution_count": 77,
   "id": "26d42986",
   "metadata": {
    "colab": {
     "base_uri": "https://localhost:8080/",
     "height": 316
    },
    "id": "26d42986",
    "outputId": "9f50d673-d5af-4caa-a840-da4e577202a1"
   },
   "outputs": [
    {
     "data": {
      "image/png": "[encoded data removed]",
      "text/plain": [
       "<Figure size 432x288 with 1 Axes>"
      ]
     },
     "metadata": {
      "needs_background": "light"
     },
     "output_type": "display_data"
    },
    {
     "name": "stdout",
     "output_type": "stream",
     "text": [
      "[4.86, 4.04, 6.16, 4.54, 2.9, 1.7, 2.37, 5.21, 5.79, 2.66, 3.81, 4.03, 0.04, 3.84, 4.28, 5.12, 3.88, 4.56, 5.45, 4.61, 4.58, 4.91, 4.14, 3.57, 5.93, 2.71, 3.71, 3.04, 5.18, 4.09, 6.71, 6.49, 3.9, 2.67, 6.82, 2.72, 6.89, 4.15, 3.22, 3.58, 3.49, 5.57, 3.2, 5.2, 3.67, 3.76, 2.31, 4.57, 1.9, 2.16, 4.57, 3.56, 2.3, 2.51, 4.62, 3.21, 2.26, 5.89, 2.23, 4.86, 5.07, 4.8, 4.31, 2.98, 2.66, 2.04, 3.15, 4.19, 4.34, 6.81, 3.41, 5.16, 1.44, 3.34, 2.43, 6.95, 3.27, 5.44, 3.19, 6.18, 1.84, 4.83, 3.57, 4.57, 7.19, 2.4, 0.9, 2.39, 4.27, 4.96, 1.43, 5.51, 3.51, 4.48, 3.63, 1.94, 3.28, 4.01, 4.16, 3.76, 1.18, 3.56, 4.32, 5.02, 1.94, 1.89, 1.87, 1.36, 5.04, 5.2, 4.65, 6.65, 5.54, 2.8, 6.91, 6.06, 2.49, 3.54, 7.39, 4.38, 4.3, 3.33, 4.03, 4.76, 5.06, 3.78, 2.56, 3.76, 3.81, 1.43, 4.17, 0.53, 5.13, 3.65, 6.84, 3.5, 1.91, 4.15, 6.06, 4.24, 5.71, 7.31, 2.22, 1.86, 7.0, 4.65, 1.48, 1.11, 3.84, 3.43, 2.75, 4.71, 3.32, 5.2, 3.57, 4.28, 2.85, 6.82, 3.89, 4.45, 3.72, 6.49, 2.77, 4.66, 1.24, 6.5, 4.41, 1.5, 2.24, 3.64, 5.33, 2.06, 2.61, 2.92, 3.09, 4.28, 2.38, 5.17, 3.71, 4.09, 3.3, 3.91, 3.82, 3.61, 3.35, 3.92, 2.79, 5.32, 5.07, 6.01, 5.88, 2.61, 4.93, 5.34, 3.92, 2.96, 3.8, 0.88, 4.1, 2.39, 0.75, 4.31, 4.5, 3.22, 4.4, 5.46, 2.65, 2.01, 3.99, 2.07, 0.5, 6.39, 4.81, 5.3, 2.54, 2.71, 7.1, 4.86, 2.06, 3.02, 4.29, 5.75, 1.83, 3.7, 4.34, 4.35, 5.73, 3.29, 2.9, 3.71, 3.0, 5.43, 5.85, 6.09, 3.57, 2.28, 3.17, 3.47, 4.09, 3.46, 1.85, 2.03, 2.21, 5.07, 2.15, 4.9, 5.59, 3.19, 3.11, 5.96, 5.74, 5.05, 3.45, 4.55, 3.82, 2.6, 5.06, 5.1, 3.09, 7.04, -0.37, 4.04, 2.22, 4.04, 4.6, 4.0, 7.72, 3.25, 4.5, 5.35, 2.97, 3.48, 5.4, 1.56, 3.39, 5.96, 4.09, 5.65, 1.88, 3.26, 3.6, 4.69, 6.33, 8.63, 2.41, 5.05, 8.22, 4.73, 4.92, 3.79, 3.83, 3.54, 2.93, 4.87, 3.72, 4.5, 2.97, 3.53, 4.17, 5.66, 3.98, 5.71, 1.57, 2.23, 3.23, 4.66, 3.73, 2.87, 1.82, 5.17, 3.97, 4.05, 1.61, 4.69, 5.8, 5.5, 6.9, 7.59, 4.02, 4.89, 2.92, 3.06, 3.86, 3.87, 2.86, 2.18, 3.33, 5.37, 3.62, 2.92, 2.72, 2.31, 6.2, 3.73, 5.64, 4.84, 6.77, 2.53, 5.14, 2.53, 2.8, 4.33, 3.78, 5.84, 5.77, 6.43, -0.29, 5.12, 5.37, 3.67, 5.2, 2.87, 3.88, 2.82, 2.24, 4.87, 4.83, 2.99, 5.03, 2.46, 5.87, 3.33, 4.29, 3.81, 1.14, 3.85, 1.84, 3.67, 6.07, 3.95, 1.78, 5.01, 1.44, 4.72, 3.66, 4.67, 2.65, 4.73, 1.8, 4.0, 4.99, 3.97, 4.19, 4.27, 3.56, 0.17, -1.11, 3.55, 2.91, 1.26, 2.25, 3.12, 4.41, 2.55, 1.09, 3.58, 3.64, 3.44, 2.28, 3.5, 5.29, 5.02, 6.03, 2.75, 5.27, 6.34, 7.61, 1.44, 4.73, 3.9, 5.83, 4.81, 4.52, 2.49, 2.87, 4.92, 4.47, 4.75, 3.76, 4.99, 2.59, 3.26, 3.59, 4.52, 6.71, 5.37, 5.78, 5.7, 3.82, 1.93, 4.29, 2.96, 4.5, 3.34, 3.31, 4.66, 2.6, 4.78, 4.83, 4.64, 3.93, 5.02, 4.54, 5.42, 2.08, 4.07, 4.78, 4.4, 6.33, 5.88, 1.95, 5.68, 5.78, 3.05, 4.35, 2.94, 6.51, 3.35, 5.34, 4.37, 4.59, 5.45, 5.63, 4.62, 2.42, 4.65, 0.99, 4.35, 2.8, 6.69, 4.83, 2.42, 3.56, 5.25, 5.52, 2.78, 4.46, 5.77, 2.46, 3.67, 2.49, 6.25, 5.85, 2.64, 1.71, 5.13, 4.07, 4.39, 4.71, 4.41, 5.25, 4.47, 4.29, 4.09, 1.91, 4.41, 3.49, 3.16, 2.3, 4.14, 2.27, 4.07, 3.54, 3.89, 4.49, 6.71, 3.13, 4.62, 3.61, 4.46, 3.99, 7.69, 4.42, 2.33, 2.11, 3.33, 2.72, 5.69, 4.31, 3.54, 4.01, 4.91, 3.75, 5.02, 4.82, 4.89, 6.55, 2.01, 5.15, 6.22, 3.43, 3.62, 4.35, 6.07, 5.43, 4.32, 3.7, 4.04, 6.67, 2.4, 4.33, 3.65, 3.46, 7.76, 2.04, 3.56, 4.07, 1.96, 6.13, 2.82, 2.68, 3.0, 3.94, 4.62, 4.82, 5.67, 2.65, 2.53, 4.37, 4.9, 1.93, 5.77, 4.99, 2.21, 2.27, 4.39, 4.87, 5.47, 2.71, 5.97, 3.51, 0.92, 5.28, 5.16, 2.36, 3.14, 7.26, 2.91, 1.81, 4.64, 2.27, 6.36, 5.86, 4.27, 3.29, 3.87, 4.47, 4.19, 5.04, 3.25, 3.42, 2.43, 3.78, 5.31, 4.05, 4.35, 4.16, 1.82, 7.8, 4.48, 0.95, 5.25, 4.38, 3.72, 2.4, 0.75, 2.45, 2.43, 5.39, 5.88, 6.25, 5.2, 4.71, 3.4, 3.97, 1.71, 2.42, 1.29, 2.68, 6.65, 5.0, 5.34, 4.61, 3.54, 4.17, 4.71, 5.14, 7.19, 2.7, 3.72, 3.99, 4.18, 3.44, 3.26, 3.02, 5.16, 1.53, 5.89, 4.1, 2.29, 5.94, 6.1, 3.01, 4.43, 4.85, 5.9, 3.01, 1.77, 2.23, 2.7, 3.53, 3.53, 1.79, 3.69, 3.16, 6.4, 5.46, 6.28, 2.2, 4.7, 5.02, 4.63, 3.09, 1.09, 0.46, 1.89, 2.86, 3.89, 4.88, 3.54, 1.4, 4.65, 3.97, 3.37, 3.27, 7.17, 2.6, 3.4, 5.19, 5.1, 2.03, 4.69, 5.3, 5.41, 5.7, 3.01, 2.77, 1.87, 3.83, 3.27, 3.02, 2.98, 3.76, 4.88, 4.32, 4.65, 3.57, 5.48, 4.25, 3.53, 5.68, 4.73, 3.75, 6.61, 5.08, 3.15, 5.25, 1.07, 4.28, 4.97, 5.22, 1.84, 2.78, 2.23, 2.82, 6.18, 1.68, 3.64, 2.34, 4.85, 4.73, 5.35, 4.52, 6.53, 4.19, 6.65, 3.94, 2.51, 4.54, 5.87, 5.17, 1.88, 5.33, 5.11, 2.05, 5.52, 3.75, 3.28, 1.59, 3.19, 6.49, 3.62, 3.33, 3.96, 2.9, 1.98, 3.31, 3.61, 3.77, 2.42, 2.71, 3.2, 1.95, 0.8, 6.18, 4.15, 3.51, 3.03, 4.47, 2.75, 2.72, 3.18, 4.06, 4.24, 2.6, 2.81, 5.29, 3.08, 4.37, 3.37, 2.46, 4.6, 3.31, 5.28, 5.01, 2.5, 3.75, 1.85, 2.45, 3.8, 2.1, 3.4, 3.02, 1.67, 4.2, 4.57, 4.88, 2.92, 6.37, 6.42, 1.89, 4.18, 5.43, 4.51, 1.04, 1.34, 5.49, 6.17, 4.75, 4.54, 7.5, 4.69, 1.29, 3.22, 2.35, 5.1, 5.03, 4.46, 3.61, 3.68, 3.32, 4.55, 6.18, 5.53, 4.27, 1.92, 5.67, 4.13, 5.34, 4.37, 5.01, 3.65, 4.78, 5.43, 3.21, 4.66, 6.07, 2.61, 3.16, 6.16, 3.71, 2.35, 3.33, 2.46, 5.69, 4.36, 3.6, 5.95, 3.16, 5.19, 6.73, 2.1, 4.33, 4.71, 3.67, 2.25, 6.32, 3.04, 5.33, 1.45, 0.84, 3.3, 2.59, 2.71, 2.9, 3.27, 6.25, 2.71, 6.52, 3.32, 4.16, 4.25, 1.34, 5.14, 6.16, 4.36, 6.46, 4.94, 3.81, 4.03, 5.14, 4.19, 4.91, 4.59, 2.39, 4.42, 3.04, 5.03, 4.17, 1.81, 2.01, 4.28, 3.52, 3.44, 4.09, 5.54, 5.33, 1.87, 4.56, 4.36, 4.0, 1.18, 7.02, 3.61, 1.28, 4.76, 3.75, 5.01, 4.11, 3.39, 5.39, 5.15, 4.79, 4.58, 2.72, 2.14, 1.0, 0.84, 3.97, 5.07, 2.5, 6.86, 4.55, 6.21, 5.53, 2.04, 2.19, 4.49, 2.24, 4.33, 3.22, 3.35, 4.49, 3.58, 4.81, 3.8, 4.99, 3.22, 2.71, 8.29, 3.04, 2.98, 1.87, 4.09, 3.44, 3.12, 5.84, 4.75, 4.12, 4.57, 2.68, 3.57, 1.92, 4.13, 0.9, 4.96, 3.32, 2.07, 5.72, 4.05, 4.6, 3.34, 2.42, 4.67, 0.94, 3.23, 4.92, 4.08, 6.15, 4.59, 5.67, 3.41, 5.46, 4.61, 3.5, 1.87, 4.42, 0.74, 6.15, 5.13, 5.22, 3.67, 4.6, 2.51, 4.19, 2.94, 4.59, 1.66, 3.62, 4.28, 3.78, 4.56, 5.14, 3.95, 5.63, 3.25, 5.8, 4.86, 5.97, 3.06, 6.16, 4.67, 4.5, 4.82, 5.76, 2.98, 4.41, 3.13, 5.31, 5.55]\n"
     ]
    }
   ],
   "source": [
    "import random\n",
    "import matplotlib.pyplot as pyplot\n",
    "\n",
    "def randCustomers(n):\n",
    "    '''\n",
    "    Poll 1,000 potential daily customers and return a list of n normally distributed prices\n",
    "    with mean $4.00 and standard deviation $1.50. Also display a histogram of these returned max prices. \n",
    "    \n",
    "    Parameters: float n\n",
    "    Return value: n normally distributed prices\n",
    "    '''\n",
    "    customersList = []\n",
    "    for i in range(1000):\n",
    "        r = random.gauss(4.00, 1.50)\n",
    "        r = round(r, 2)\n",
    "        customersList.append(r)\n",
    "   \n",
    "    pyplot.hist(customersList)       \n",
    "    pyplot.xlabel(\"Price\")\n",
    "    pyplot.ylabel(\"Customers\")\n",
    "    pyplot.show()  \n",
    "    \n",
    "    return customersList\n",
    "\n",
    "def main():\n",
    "    n = 1000\n",
    "    customersList = randCustomers(n)  \n",
    "    print(customersList)\n",
    "main()"
   ]
  },
  {
   "cell_type": "markdown",
   "id": "d8dc8489",
   "metadata": {
    "id": "d8dc8489"
   },
   "source": [
    "## Part 2: Compute Sales\n",
    "\n",
    "In this part, we want to know how many customers would buy espresso from us at any given price. To find out, using the information from **Part 1**, we write a function `sales(customers, price)` that returns the number of customers willing to buy espresso if it were priced at the given `price`. The first parameter `customers` is a list containing the maximum price that each customer is willing to pay. Then we write another function `plotDemand(customers, lowPrice, highPrice, step)` that uses our `sales` function to plot a demand curve. The demand curve has price on the x-axis and the quantity of sales on the y-axis. The prices on the x-axis run from **lowPrice** to **highPrice** in increments of `step`. Using this function, we plot a demand curve for prices from free to $8.00, in increments of a quarter.\n",
    "\n",
    "Firstly, we write the function `sales(customers, price)`. Then we initialize `n` variable and use a for-loop which iterates through the customers list. Following the loop, we use a conditional statement which checks if `i` is greater than or equal to `price` and increments `n` by one. \n",
    "\n",
    "After that, we write the `plotDemand(customers, lowPrice, highPrice, step)` function. We initialize `y` and `x` variables which are used to plot the demand curve. We also initialize `price` variable with `lowPrice` and then we use a while-loop which iterates untill `price` is less than or equal to `highPrice`. We append `sales(customers, price)` into `y` and `price` into `x` and increment `price` with `step` so that it does not become an infinite-loop. \n",
    "\n",
    "\n",
    "\n"
   ]
  },
  {
   "cell_type": "code",
   "execution_count": 103,
   "id": "87a68e77",
   "metadata": {
    "colab": {
     "base_uri": "https://localhost:8080/",
     "height": 279
    },
    "id": "87a68e77",
    "outputId": "1ce3ab1e-9185-4d11-cedd-09fdef37a983"
   },
   "outputs": [
    {
     "data": {
      "image/png": "[encoded data removed]",
      "text/plain": [
       "<Figure size 432x288 with 1 Axes>"
      ]
     },
     "metadata": {
      "needs_background": "light"
     },
     "output_type": "display_data"
    }
   ],
   "source": [
    "import matplotlib.pyplot as pyplot\n",
    "def sales (customers, price):\n",
    "    '''\n",
    "    Return the number of customers willing to buy espresso if it were priced at the given price.\n",
    "    Parameters: number of customers, given price\n",
    "    Return values: number of customers\n",
    "    '''\n",
    "    n = 0\n",
    "    for i in customers:\n",
    "        if i >= price:\n",
    "            n += 1\n",
    "    return n\n",
    "\n",
    "def plotDemand(customers, lowPrice, highPrice, step):\n",
    "    '''\n",
    "    Plot a demand curve that has price on the x-axis and the quantity of sales on the y-axis. \n",
    "    The prices on the x-axis run from lowPrice to highPrice in increments of step.\n",
    "    \n",
    "    Parameters: number of customers, lowPrice, highPrice, step\n",
    "    Return value: None\n",
    "    '''\n",
    "    price = lowPrice\n",
    "    y = []\n",
    "    x = []\n",
    "    while price <= highPrice:\n",
    "        y.append(sales (customers, price))\n",
    "        x.append(price)\n",
    "        price += step\n",
    "        \n",
    "    pyplot.plot(x, y)  \n",
    "    pyplot.title(\"Demand Curve\")\n",
    "    pyplot.xlabel(\"Price (in $)\")\n",
    "    pyplot.ylabel(\"Quantity of Sales\")\n",
    "    pyplot.show() \n",
    "\n",
    "def main():\n",
    "    customersList = randCustomers(n) \n",
    "    plotDemand(customersList, 0.00, 8.00, 0.25)\n",
    "main()"
   ]
  },
  {
   "cell_type": "markdown",
   "id": "519f98b0",
   "metadata": {
    "id": "519f98b0"
   },
   "source": [
    "## Part 3: Compute Profits\n",
    "\n",
    "In the third part, there is another situation where we are given one pound (454 g) of roasted coffee beans which costs us \\\\$10.00 and we use 8 g of coffee per shot of espresso. Each specific \"to go\" cup costs us \\\\$0.05 and we estimate that half of our customers will need \"to go\" cups. We also estimate that we have about $500 of fixed costs (wages, utilities, etc.) for each day we are open. To demonstrate all of this scenario we write a function `profits(customers, lowPrice, highPrice, step, perCost, fixedCost)` that plots our profit at each price. Our function return the maximum profit, the price at which the maximum profit is attained, and the number of customers who buy espresso at that price.\n",
    "\n",
    "Firstly, we initialize `maxProfit`, `maxProfitPrice`, and `maxProfitSales` variables. After initializing `price` with `lowPrice`, we also initialize `prices` and `profits` variables which are used to plot a profit vs price curve. After that, we use a while-loop which iterates until `price` is less than or equal to `highPrice`. Then we append `price` into `prices` and initialize `s` with `sales` function. We also initialize `profit` and write a conditional statement which checks if `profit` is greater than `highPrice` and then initialize `maxProfit` with `profit`, `maxProfitPrice` with `price`, and `maxProfitSales` with `s`. Finally, we apppend `profit` into `profits` and increments `price` by `step`. "
   ]
  },
  {
   "cell_type": "code",
   "execution_count": 98,
   "id": "4d96944f",
   "metadata": {
    "colab": {
     "base_uri": "https://localhost:8080/",
     "height": 296
    },
    "id": "4d96944f",
    "outputId": "129b93e8-98af-4895-8b0c-55327c129923"
   },
   "outputs": [
    {
     "data": {
      "image/png": "[encoded data removed]",
      "text/plain": [
       "<Figure size 432x288 with 1 Axes>"
      ]
     },
     "metadata": {
      "needs_background": "light"
     },
     "output_type": "display_data"
    },
    {
     "name": "stdout",
     "output_type": "stream",
     "text": [
      "The maximum profit: $ 1612.810462555066\n",
      "The price at which the maximum profit is attained: $ 3.25\n",
      "The number of customers who buy espresso at that price: 693\n"
     ]
    }
   ],
   "source": [
    "import matplotlib.pyplot as pyplot\n",
    "\n",
    "def profits(customers, lowPrice, highPrice, step, perCost, fixedCost):\n",
    "    '''\n",
    "    Compute the maximum profit, the price at which the maximum profit is attained, and the number of customers \n",
    "    who buy espresso at that price. Also plot the profit at each price. \n",
    "    \n",
    "    Parameters: number of customers, lowPrice, highPrice, step, perCost, fixedCost\n",
    "    \n",
    "    Return value: maximum profit, the price at which the maximum profit is attained, \n",
    "    and the number of customers who buy espresso at that price.\n",
    "    '''\n",
    "    maxProfit = 0\n",
    "    maxProfitPrice = 0\n",
    "    maxProfitSales = 0\n",
    "    prices = []\n",
    "    profits = []\n",
    "    price = lowPrice\n",
    "    \n",
    "    while price <= highPrice:\n",
    "        prices.append(price)\n",
    "        s = sales(customers, price)\n",
    "        profit = s * (price - perCost) - fixedCost\n",
    "        if profit > maxProfit:\n",
    "            maxProfit = profit\n",
    "            maxProfitPrice = price\n",
    "            maxProfitSales = s\n",
    "        profits.append(profit)\n",
    "        price += step\n",
    "        \n",
    "    pyplot.plot(prices, profits)\n",
    "    pyplot.title(\"Profit vs Price\")\n",
    "    pyplot.xlabel(\"Price (in $)\")\n",
    "    pyplot.ylabel(\"Profit (in $)\")\n",
    "    pyplot.show()\n",
    "    return maxProfit, maxProfitPrice, maxProfitSales\n",
    "\n",
    "def main():\n",
    "    maxProfit, maxProfitPrice, numberOfCustomers = profits(customersList, 0.00, 8.00, 0.25, 10*8/454 + 0.05/2, 500)\n",
    "    print(\"The maximum profit: $\", maxProfit)\n",
    "    print(\"The price at which the maximum profit is attained: $\", maxProfitPrice)\n",
    "    print(\"The number of customers who buy espresso at that price:\", numberOfCustomers)\n",
    "main()"
   ]
  },
  {
   "cell_type": "markdown",
   "id": "fa4b3d85",
   "metadata": {},
   "source": [
    "**Question 7.3.1** *How should you price a shot of espresso to maximize your profit? At this price, how much profit do you expect each day? How many customers should you expect each day?*"
   ]
  },
  {
   "cell_type": "markdown",
   "id": "3335c3bb",
   "metadata": {},
   "source": [
    "We should price each shot of our espresso at \\\\$3.25. At this price we can expect a profit of around $1613 and can expect 693 customers who will buy it every day."
   ]
  }
 ],
 "metadata": {
  "colab": {
   "name": "Project.ipynb",
   "provenance": []
  },
  "kernelspec": {
   "display_name": "Python 3 (ipykernel)",
   "language": "python",
   "name": "python3"
  },
  "language_info": {
   "codemirror_mode": {
    "name": "ipython",
    "version": 3
   },
   "file_extension": ".py",
   "mimetype": "text/x-python",
   "name": "python",
   "nbconvert_exporter": "python",
   "pygments_lexer": "ipython3",
   "version": "3.9.12"
  }
 },
 "nbformat": 4,
 "nbformat_minor": 5
}
